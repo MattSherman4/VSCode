{
 "cells": [
  {
   "cell_type": "code",
   "execution_count": 1,
   "metadata": {},
   "outputs": [],
   "source": [
    "%%capture\n",
    "!pip install pandas\n",
    "import pandas as pd"
   ]
  },
  {
   "cell_type": "code",
   "execution_count": 53,
   "metadata": {},
   "outputs": [
    {
     "name": "stdout",
     "output_type": "stream",
     "text": [
      "54\n"
     ]
    }
   ],
   "source": [
    "correct = pd.read_csv(\"drafts2024\\MockDraft2024.csv\")\n",
    "originalOrder = pd.read_csv(\"drafts2024\\draftOrder2024.csv\")\n",
    "\n",
    "score = 0\n",
    "prediction = pd.read_csv(\"drafts2024\\Matt.csv\")\n",
    "predictionR1 = prediction.head(32)\n",
    "\n",
    "#Correct Pick Number\n",
    "predictedPicks = (predictionR1['Name'] == correct['Name'])\n",
    "predictedPicks = len(predictedPicks[predictedPicks == True])\n",
    "score += 5 * predictedPicks\n",
    "\n",
    "#Correct Team\n",
    "predictedTeams = len(predictionR1[['Team', 'Name']].merge(correct[['Team', 'Name']], 'inner'))\n",
    "score += 5 * predictedTeams\n",
    "\n",
    "#Calculates Trades\n",
    "trades = (originalOrder['Team'] == correct['Team']).tolist()\n",
    "trades = [i for i in range(len(trades)) if trades[i] == False]\n",
    "for i in trades:\n",
    "    if predictionR1.iloc[i]['Team'] == correct.iloc[i]['Team']:\n",
    "        score += 5\n",
    "\n",
    "#Position Groups\n",
    "predictedTeams = len(predictionR1[['Pick', 'Team', 'Pos']].merge(correct[['Pick', 'Team', 'Pos']], 'inner'))\n",
    "score += 2 * predictedTeams\n",
    "\n",
    "print(score)\n"
   ]
  }
 ],
 "metadata": {
  "kernelspec": {
   "display_name": "Python 3",
   "language": "python",
   "name": "python3"
  },
  "language_info": {
   "codemirror_mode": {
    "name": "ipython",
    "version": 3
   },
   "file_extension": ".py",
   "mimetype": "text/x-python",
   "name": "python",
   "nbconvert_exporter": "python",
   "pygments_lexer": "ipython3",
   "version": "3.11.9"
  }
 },
 "nbformat": 4,
 "nbformat_minor": 2
}
