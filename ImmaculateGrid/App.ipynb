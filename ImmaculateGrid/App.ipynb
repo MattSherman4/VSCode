{
 "cells": [
  {
   "cell_type": "code",
   "execution_count": 4,
   "metadata": {},
   "outputs": [
    {
     "name": "stdout",
     "output_type": "stream",
     "text": [
      "Requirement already satisfied: plotly in c:\\users\\pensh\\appdata\\local\\packages\\pythonsoftwarefoundation.python.3.11_qbz5n2kfra8p0\\localcache\\local-packages\\python311\\site-packages (5.24.0)\n",
      "Requirement already satisfied: tenacity>=6.2.0 in c:\\users\\pensh\\appdata\\local\\packages\\pythonsoftwarefoundation.python.3.11_qbz5n2kfra8p0\\localcache\\local-packages\\python311\\site-packages (from plotly) (9.0.0)\n",
      "Requirement already satisfied: packaging in c:\\users\\pensh\\appdata\\local\\packages\\pythonsoftwarefoundation.python.3.11_qbz5n2kfra8p0\\localcache\\local-packages\\python311\\site-packages (from plotly) (24.0)\n",
      "Note: you may need to restart the kernel to use updated packages.\n"
     ]
    },
    {
     "name": "stderr",
     "output_type": "stream",
     "text": [
      "\n",
      "[notice] A new release of pip is available: 24.0 -> 24.2\n",
      "[notice] To update, run: C:\\Users\\pensh\\AppData\\Local\\Microsoft\\WindowsApps\\PythonSoftwareFoundation.Python.3.11_qbz5n2kfra8p0\\python.exe -m pip install --upgrade pip\n"
     ]
    }
   ],
   "source": [
    "# pip install dash\n",
    "# pip install plotly"
   ]
  },
  {
   "cell_type": "code",
   "execution_count": 13,
   "metadata": {},
   "outputs": [
    {
     "data": {
      "text/html": [
       "\n",
       "        <iframe\n",
       "            width=\"100%\"\n",
       "            height=\"650\"\n",
       "            src=\"http://127.0.0.1:8050/\"\n",
       "            frameborder=\"0\"\n",
       "            allowfullscreen\n",
       "            \n",
       "        ></iframe>\n",
       "        "
      ],
      "text/plain": [
       "<IPython.lib.display.IFrame at 0x1d76532b990>"
      ]
     },
     "metadata": {},
     "output_type": "display_data"
    }
   ],
   "source": [
    "import pandas as pd\n",
    "from dash import Dash, html, dcc, callback, Output, Input\n",
    "import plotly.express as px\n",
    "\n",
    "app = Dash(__name__)\n",
    "\n",
    "df = pd.read_csv('transfers.txt').iloc[: , 1:]\n",
    "df = df[df['From'] != 'College']\n",
    "\n",
    "app.layout = html.Div(children = [\n",
    "    html.H1(children='NFL Transactions', style={'textAlign':'center', 'color':'white'}),\n",
    "    html.H2(children='Updated 2023 Week 2', style={'textAlign':'center', 'color':'white'}),\n",
    "\n",
    "\n",
    "    html.Div(children=[\n",
    "        html.Div(children=[\n",
    "            html.Label('From Team Select', style={'color':'white'}),\n",
    "            dcc.Dropdown((['All Teams'] + sorted(df.From.unique())), '49ers', id='from-dropdown'),\n",
    "        ], style={'padding': 10, 'flex':1}),\n",
    "\n",
    "        html.Div(children=[\n",
    "            html.Label('To Team Select', style={'color':'white'}),\n",
    "            dcc.Dropdown((['All Teams'] + sorted(df.From.unique())), 'All Teams', id='to-dropdown'),\n",
    "        ], style={'padding': 10, 'flex': 1}),\n",
    "    ], style={'padding': 10, 'display': 'flex', 'flexDirection': 'row', 'scale': 2}),\n",
    "\n",
    "\n",
    "    html.Div(children=[\n",
    "        html.Div(children=[\n",
    "            html.Div(children=[\n",
    "                html.Label('Include From: College?', style={'color':'white'}),\n",
    "                dcc.RadioItems(['No', 'Yes (Load Time Warning)', 'Individual (Severe Load Time Warning)'], 'No', style={'color':'white'}, id = 'collegeCheck'),\n",
    "            ], style={'padding': 10,}),\n",
    "\n",
    "            html.Div(children=[\n",
    "                html.Label('Immaculate Grid Mode?', style={'color':'white'}),\n",
    "                dcc.RadioItems(['No', 'Yes'], 'No', style={'color':'white'}, id = 'immaculateCheck'),\n",
    "            ], style={'padding': 10,}),\n",
    "        ], style={'padding': 5, 'display': 'flex', 'flexDirection': 'column'}),\n",
    "\n",
    "        html.Div(children=[\n",
    "            html.Br(),\n",
    "            html.Label('From Year', style={'color':'white'}),\n",
    "            dcc.Slider(min=2000, max=2024,\n",
    "                marks={str(i) : {'label' : str(i), 'style':{'color':'white'}} for i in range(2000, 2025, 2)}, value=2020,\n",
    "                id='from-year-slider'),\n",
    "\n",
    "            html.Br(),\n",
    "            html.Label('To Year', style={'color':'white'}),\n",
    "            dcc.Slider(min=2000, max=2024,\n",
    "                marks={str(i) : {'label' : str(i), 'style':{'color':'white'}} for i in range(2000, 2025, 2)}, value=2024,\n",
    "                id='to-year-slider'),\n",
    "        ], style={'padding': 10, 'display': 'flex', 'flexDirection': 'column', 'flex': 1, 'scale': 2}),\n",
    "    ], style={'padding': 10, 'display': 'flex', 'flexDirection': 'row', 'scale': 2}),\n",
    "\n",
    "    dcc.Graph(id='graph-content')\n",
    "], style={'backgroundColor':'black', 'scale': 2})\n",
    "\n",
    "\n",
    "@callback(\n",
    "    Output('graph-content', 'figure'),\n",
    "    Input('from-dropdown', 'value'),\n",
    "    Input('from-year-slider', 'value'),\n",
    "    Input('to-dropdown', 'value'),\n",
    "    Input('to-year-slider', 'value'),\n",
    "    Input('collegeCheck', 'value'),\n",
    "    Input('immaculateCheck', 'value'),\n",
    ")\n",
    "\n",
    "def update_graph(FromTeam, FromYear, ToTeam, ToYear, College, Immaculate):\n",
    "    data = pd.read_csv('transfers.txt').iloc[: , 1:]\n",
    "    if College == 'No':\n",
    "        data = data[data['From'] != 'College']\n",
    "    elif College == 'Individual (Severe Load Time Warning)':\n",
    "        data.loc[data.From == 'College', 'From'] = data['College']\n",
    "        data.loc[data.From.str.contains(','), 'From'] = data['From'].str.split(',')\n",
    "        data['From'] = data['From'].apply(lambda x: x[-1] if isinstance(x, list) else x)\n",
    "\n",
    "    if Immaculate == 'Yes':\n",
    "        From = data[['BirthDate', 'Player', 'From', 'Transactions']].rename(columns = {'From' : 'Team'})\n",
    "        To = data[['BirthDate', 'Player', 'To', 'Transactions']].rename(columns = {'To' : 'Team'})\n",
    "        data = pd.merge(From, To, on = ['BirthDate', 'Player'], how = \"right\").drop(columns = ['Transactions_y']).rename(columns = {'Team_x' : 'Team1', 'Team_y' : 'Team2','Transactions_x' : 'Transactions'}).sort_values(by = ['Player', 'Team1', 'Team2'], ascending = True).drop_duplicates(subset = ['BirthDate', 'Player', 'Team1', 'Team2'], keep = 'last').reset_index(drop=True)\n",
    "        temp = pd.DataFrame(data).rename(columns = {'Team2' : 'Team1', 'Team1' : 'Team2'})\n",
    "        data = pd.concat([data, temp]).sort_values(by = ['Player', 'Team1', 'Team2'], ascending = True).drop_duplicates(subset = ['BirthDate', 'Player', 'Team1', 'Team2'], keep = 'last').reset_index(drop=True)\n",
    "        data = data[data.Team1 != data.Team2]\n",
    "\n",
    "        if (FromTeam == 'All Teams') & (ToTeam == 'All Teams'):\n",
    "            return (px.treemap(data, path=[px.Constant('Immaculate Grid!'), 'Team1', 'Team2', 'Player'], values = 'Transactions', template = 'plotly_dark'))\n",
    "        elif FromTeam == 'All Teams': \n",
    "            data = data[data.Team2==ToTeam]\n",
    "            return (px.treemap(data, path=[px.Constant(\"Immaculate Grid! (\" + str(ToTeam) + \")\"), 'Team1', 'Team2', 'Player'], values = 'Transactions', template = 'plotly_dark'))\n",
    "        elif ToTeam == 'All Teams': \n",
    "            data = data[data.Team1==FromTeam]\n",
    "            return (px.treemap(data, path=[px.Constant(\"Immaculate Grid! (\" + str(FromTeam) + \")\"), 'Team1', 'Team2', 'Player'], values = 'Transactions', template = 'plotly_dark'))\n",
    "        else:\n",
    "            data = data[data.Team2==ToTeam]\n",
    "            data = data[data.Team1==FromTeam]\n",
    "            return (px.treemap(data, path=[px.Constant(\"Immaculate Grid! (\" + str(FromTeam) + \") -> (\" + str(ToTeam) + \")\"), 'Player'], values = 'Transactions', template = 'plotly_dark'))\n",
    "\n",
    "    if (FromTeam == 'All Teams') & (ToTeam == 'All Teams'):\n",
    "        data = data[data.Year>=FromYear]\n",
    "        data = data[data.Year<=ToYear]\n",
    "        return (px.treemap(data, path=[px.Constant('All Transactions'), 'From', 'To', 'Player'], values = 'Transactions', template = 'plotly_dark'))\n",
    "    elif FromTeam == 'All Teams': \n",
    "        data = data[data.To==ToTeam]\n",
    "        data = data[data.Year>=FromYear]\n",
    "        data = data[data.Year<=ToYear]\n",
    "        return (px.treemap(data, path=[px.Constant(\"To: \" + str(ToTeam)), 'From', 'Player'], values = 'Transactions', template = 'plotly_dark'))\n",
    "    elif ToTeam == 'All Teams': \n",
    "        data = data[data.From==FromTeam]  \n",
    "        data = data[data.Year>=FromYear]\n",
    "        data = data[data.Year<=ToYear]\n",
    "        return (px.treemap(data, path=[px.Constant(\"From: \" + str(FromTeam)), 'To', 'Player'], values = 'Transactions', template = 'plotly_dark'))\n",
    "    else:\n",
    "        data = data[data.To==ToTeam]\n",
    "        data = data[data.From==FromTeam]\n",
    "        data = data[data.Year>=FromYear]\n",
    "        data = data[data.Year<=ToYear]\n",
    "        return (px.treemap(data, path=[px.Constant(\"From: \" + str(FromTeam) + \" To: \" + str(ToTeam)), 'Player'], values = 'Transactions', template = 'plotly_dark'))\n",
    "\n",
    "if __name__ == '__main__':\n",
    "    app.run(debug=True)"
   ]
  }
 ],
 "metadata": {
  "kernelspec": {
   "display_name": "base",
   "language": "python",
   "name": "python3"
  },
  "language_info": {
   "codemirror_mode": {
    "name": "ipython",
    "version": 3
   },
   "file_extension": ".py",
   "mimetype": "text/x-python",
   "name": "python",
   "nbconvert_exporter": "python",
   "pygments_lexer": "ipython3",
   "version": "3.11.9"
  }
 },
 "nbformat": 4,
 "nbformat_minor": 2
}
